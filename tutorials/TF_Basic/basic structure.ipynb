{
 "cells": [
  {
   "cell_type": "markdown",
   "metadata": {},
   "source": [
    "# Basic Structure of Training a Model"
   ]
  },
  {
   "cell_type": "code",
   "execution_count": 1,
   "metadata": {
    "ExecuteTime": {
     "end_time": "2020-06-23T06:49:55.438441Z",
     "start_time": "2020-06-23T06:49:53.389240Z"
    }
   },
   "outputs": [],
   "source": [
    "import tensorflow as tf\n",
    "from datetime import datetime"
   ]
  },
  {
   "cell_type": "markdown",
   "metadata": {},
   "source": [
    "## Hyper-parameters"
   ]
  },
  {
   "cell_type": "code",
   "execution_count": 2,
   "metadata": {
    "ExecuteTime": {
     "end_time": "2020-06-23T06:49:55.442467Z",
     "start_time": "2020-06-23T06:49:55.440194Z"
    }
   },
   "outputs": [],
   "source": [
    "num_classes = 10\n",
    "\n",
    "epochs = 50\n",
    "batch_size = 16"
   ]
  },
  {
   "cell_type": "markdown",
   "metadata": {},
   "source": [
    "## Data pre-process"
   ]
  },
  {
   "cell_type": "code",
   "execution_count": 3,
   "metadata": {
    "ExecuteTime": {
     "end_time": "2020-06-23T06:49:55.902967Z",
     "start_time": "2020-06-23T06:49:55.444904Z"
    }
   },
   "outputs": [],
   "source": [
    "mnist = tf.keras.datasets.mnist\n",
    "(x_train, y_train), (x_test, y_test) = mnist.load_data()\n",
    "\n",
    "x_train = x_train / 255.0\n",
    "x_test = x_test / 255.0"
   ]
  },
  {
   "cell_type": "markdown",
   "metadata": {},
   "source": [
    "## Set up a model"
   ]
  },
  {
   "cell_type": "code",
   "execution_count": 4,
   "metadata": {
    "ExecuteTime": {
     "end_time": "2020-06-23T06:49:55.920362Z",
     "start_time": "2020-06-23T06:49:55.904879Z"
    }
   },
   "outputs": [],
   "source": [
    "class MyModel(tf.keras.Model):\n",
    "    def __init__(self):\n",
    "        super(MyModel, self).__init__()\n",
    "        self.flat = tf.keras.layers.Flatten(input_shape=(28, 28))\n",
    "        self.d1 = tf.keras.layers.Dense(512, activation='relu')\n",
    "        self.d2 = tf.keras.layers.Dense(256, activation='relu')\n",
    "        self.d3 = tf.keras.layers.Dense(128, activation='relu')\n",
    "        self.d4 = tf.keras.layers.Dense(64, activation='relu')\n",
    "        self.d5 = tf.keras.layers.Dense(32, activation='relu')\n",
    "        self.d6 = tf.keras.layers.Dense(num_classes, activation='softmax')\n",
    "        \n",
    "    def call(self, inputs):\n",
    "        x = self.flat(inputs)\n",
    "        x = self.d1(x)\n",
    "        x = self.d2(x)\n",
    "        x = self.d3(x)\n",
    "        x = self.d4(x)\n",
    "        x = self.d5(x)\n",
    "        return self.d6(x)\n",
    "    \n",
    "model = MyModel()"
   ]
  },
  {
   "cell_type": "markdown",
   "metadata": {},
   "source": [
    "## Set callbacks\n",
    "### checkpoint"
   ]
  },
  {
   "cell_type": "code",
   "execution_count": 5,
   "metadata": {
    "ExecuteTime": {
     "end_time": "2020-06-23T06:49:55.924996Z",
     "start_time": "2020-06-23T06:49:55.921920Z"
    }
   },
   "outputs": [],
   "source": [
    "checkpoint_path = 'checkpoints/basic_structure' + datetime.now().strftime(\n",
    "    \"%Y%m%d-%H%M%S\") + '.ckpt'\n",
    "checkpoint = tf.keras.callbacks.ModelCheckpoint(checkpoint_path,\n",
    "                                                save_best_only=True,\n",
    "                                                save_weights_only=True,\n",
    "                                                monitor='val_loss',\n",
    "                                                verbose=1)"
   ]
  },
  {
   "cell_type": "markdown",
   "metadata": {},
   "source": [
    "### tensorboard"
   ]
  },
  {
   "cell_type": "code",
   "execution_count": 6,
   "metadata": {
    "ExecuteTime": {
     "end_time": "2020-06-23T06:49:56.052059Z",
     "start_time": "2020-06-23T06:49:55.926509Z"
    }
   },
   "outputs": [],
   "source": [
    "%load_ext tensorboard\n",
    "# Clear any logs from previous runs\n",
    "!rm -rf ./logs/\n",
    "\n",
    "logdir=\"logs/fit/\" + datetime.now().strftime(\"%Y%m%d-%H%M%S\")\n",
    "tensorboard_callback = tf.keras.callbacks.TensorBoard(log_dir=logdir)"
   ]
  },
  {
   "cell_type": "markdown",
   "metadata": {},
   "source": [
    "### reduce learning rate"
   ]
  },
  {
   "cell_type": "code",
   "execution_count": 7,
   "metadata": {
    "ExecuteTime": {
     "end_time": "2020-06-23T06:49:56.057250Z",
     "start_time": "2020-06-23T06:49:56.054446Z"
    }
   },
   "outputs": [],
   "source": [
    "reduce_lr = tf.keras.callbacks.ReduceLROnPlateau(monitor='val_loss',\n",
    "                                                 factor=0.1,\n",
    "                                                 patience=3,\n",
    "                                                 min_lr=0.00001)"
   ]
  },
  {
   "cell_type": "markdown",
   "metadata": {},
   "source": [
    "## Set optimizer, loss function, & metrics"
   ]
  },
  {
   "cell_type": "code",
   "execution_count": 8,
   "metadata": {
    "ExecuteTime": {
     "end_time": "2020-06-23T06:49:56.084487Z",
     "start_time": "2020-06-23T06:49:56.061159Z"
    }
   },
   "outputs": [],
   "source": [
    "optimizer = tf.keras.optimizers.RMSprop(0.001)\n",
    "loss = tf.keras.losses.SparseCategoricalCrossentropy(from_logits=True)\n",
    "metric_acc = tf.keras.metrics.SparseCategoricalAccuracy()"
   ]
  },
  {
   "cell_type": "markdown",
   "metadata": {},
   "source": [
    "## Compile the model"
   ]
  },
  {
   "cell_type": "code",
   "execution_count": 9,
   "metadata": {
    "ExecuteTime": {
     "end_time": "2020-06-23T06:49:56.096148Z",
     "start_time": "2020-06-23T06:49:56.087070Z"
    }
   },
   "outputs": [],
   "source": [
    "model.compile(optimizer, loss, metrics=[metric_acc])"
   ]
  },
  {
   "cell_type": "markdown",
   "metadata": {},
   "source": [
    "## Fit the model"
   ]
  },
  {
   "cell_type": "code",
   "execution_count": 10,
   "metadata": {
    "ExecuteTime": {
     "end_time": "2020-06-23T07:05:46.560925Z",
     "start_time": "2020-06-23T06:49:56.097493Z"
    }
   },
   "outputs": [
    {
     "name": "stdout",
     "output_type": "stream",
     "text": [
      "Epoch 1/50\n",
      "1871/1875 [============================>.] - ETA: 0s - loss: 1.5813 - sparse_categorical_accuracy: 0.8814\n",
      "Epoch 00001: val_loss improved from inf to 1.51720, saving model to checkpoints/basic_structure20200623-154955.ckpt\n",
      "1875/1875 [==============================] - 8s 4ms/step - loss: 1.5812 - sparse_categorical_accuracy: 0.8814 - val_loss: 1.5172 - val_sparse_categorical_accuracy: 0.9437 - lr: 0.0010\n",
      "Epoch 2/50\n",
      "1872/1875 [============================>.] - ETA: 0s - loss: 1.5200 - sparse_categorical_accuracy: 0.9410\n",
      "Epoch 00002: val_loss improved from 1.51720 to 1.50764, saving model to checkpoints/basic_structure20200623-154955.ckpt\n",
      "1875/1875 [==============================] - 10s 5ms/step - loss: 1.5199 - sparse_categorical_accuracy: 0.9410 - val_loss: 1.5076 - val_sparse_categorical_accuracy: 0.9533 - lr: 0.0010\n",
      "Epoch 3/50\n",
      "1870/1875 [============================>.] - ETA: 0s - loss: 1.5104 - sparse_categorical_accuracy: 0.9505\n",
      "Epoch 00003: val_loss improved from 1.50764 to 1.50198, saving model to checkpoints/basic_structure20200623-154955.ckpt\n",
      "1875/1875 [==============================] - 12s 6ms/step - loss: 1.5103 - sparse_categorical_accuracy: 0.9506 - val_loss: 1.5020 - val_sparse_categorical_accuracy: 0.9589 - lr: 0.0010\n",
      "Epoch 4/50\n",
      "1872/1875 [============================>.] - ETA: 0s - loss: 1.5078 - sparse_categorical_accuracy: 0.9532\n",
      "Epoch 00004: val_loss did not improve from 1.50198\n",
      "1875/1875 [==============================] - 14s 7ms/step - loss: 1.5078 - sparse_categorical_accuracy: 0.9532 - val_loss: 1.5066 - val_sparse_categorical_accuracy: 0.9546 - lr: 0.0010\n",
      "Epoch 5/50\n",
      "1873/1875 [============================>.] - ETA: 0s - loss: 1.5060 - sparse_categorical_accuracy: 0.9551\n",
      "Epoch 00005: val_loss improved from 1.50198 to 1.49922, saving model to checkpoints/basic_structure20200623-154955.ckpt\n",
      "1875/1875 [==============================] - 15s 8ms/step - loss: 1.5059 - sparse_categorical_accuracy: 0.9551 - val_loss: 1.4992 - val_sparse_categorical_accuracy: 0.9619 - lr: 0.0010\n",
      "Epoch 6/50\n",
      "1872/1875 [============================>.] - ETA: 0s - loss: 1.5028 - sparse_categorical_accuracy: 0.9583\n",
      "Epoch 00006: val_loss did not improve from 1.49922\n",
      "1875/1875 [==============================] - 15s 8ms/step - loss: 1.5027 - sparse_categorical_accuracy: 0.9584 - val_loss: 1.4999 - val_sparse_categorical_accuracy: 0.9612 - lr: 0.0010\n",
      "Epoch 7/50\n",
      "1873/1875 [============================>.] - ETA: 0s - loss: 1.5026 - sparse_categorical_accuracy: 0.9585\n",
      "Epoch 00007: val_loss did not improve from 1.49922\n",
      "1875/1875 [==============================] - 17s 9ms/step - loss: 1.5026 - sparse_categorical_accuracy: 0.9585 - val_loss: 1.4994 - val_sparse_categorical_accuracy: 0.9614 - lr: 0.0010\n",
      "Epoch 8/50\n",
      "1871/1875 [============================>.] - ETA: 0s - loss: 1.4992 - sparse_categorical_accuracy: 0.9619\n",
      "Epoch 00008: val_loss improved from 1.49922 to 1.49611, saving model to checkpoints/basic_structure20200623-154955.ckpt\n",
      "1875/1875 [==============================] - 18s 10ms/step - loss: 1.4993 - sparse_categorical_accuracy: 0.9619 - val_loss: 1.4961 - val_sparse_categorical_accuracy: 0.9649 - lr: 0.0010\n",
      "Epoch 9/50\n",
      "1871/1875 [============================>.] - ETA: 0s - loss: 1.5013 - sparse_categorical_accuracy: 0.9598\n",
      "Epoch 00009: val_loss did not improve from 1.49611\n",
      "1875/1875 [==============================] - 18s 10ms/step - loss: 1.5013 - sparse_categorical_accuracy: 0.9598 - val_loss: 1.4971 - val_sparse_categorical_accuracy: 0.9640 - lr: 0.0010\n",
      "Epoch 10/50\n",
      "1874/1875 [============================>.] - ETA: 0s - loss: 1.5003 - sparse_categorical_accuracy: 0.9607\n",
      "Epoch 00010: val_loss did not improve from 1.49611\n",
      "1875/1875 [==============================] - 19s 10ms/step - loss: 1.5003 - sparse_categorical_accuracy: 0.9607 - val_loss: 1.5072 - val_sparse_categorical_accuracy: 0.9538 - lr: 0.0010\n",
      "Epoch 11/50\n",
      "1870/1875 [============================>.] - ETA: 0s - loss: 1.4990 - sparse_categorical_accuracy: 0.9621- ETA: 1s - loss: 1.4991 - s\n",
      "Epoch 00011: val_loss did not improve from 1.49611\n",
      "1875/1875 [==============================] - 17s 9ms/step - loss: 1.4991 - sparse_categorical_accuracy: 0.9621 - val_loss: 1.4980 - val_sparse_categorical_accuracy: 0.9632 - lr: 0.0010\n",
      "Epoch 12/50\n",
      "1871/1875 [============================>.] - ETA: 0s - loss: 1.4888 - sparse_categorical_accuracy: 0.9722\n",
      "Epoch 00012: val_loss improved from 1.49611 to 1.49059, saving model to checkpoints/basic_structure20200623-154955.ckpt\n",
      "1875/1875 [==============================] - 18s 9ms/step - loss: 1.4888 - sparse_categorical_accuracy: 0.9722 - val_loss: 1.4906 - val_sparse_categorical_accuracy: 0.9707 - lr: 1.0000e-04\n",
      "Epoch 13/50\n",
      "1875/1875 [==============================] - ETA: 0s - loss: 1.4856 - sparse_categorical_accuracy: 0.9755\n",
      "Epoch 00013: val_loss improved from 1.49059 to 1.49020, saving model to checkpoints/basic_structure20200623-154955.ckpt\n",
      "1875/1875 [==============================] - 18s 10ms/step - loss: 1.4856 - sparse_categorical_accuracy: 0.9755 - val_loss: 1.4902 - val_sparse_categorical_accuracy: 0.9709 - lr: 1.0000e-04\n",
      "Epoch 14/50\n",
      "1872/1875 [============================>.] - ETA: 0s - loss: 1.4844 - sparse_categorical_accuracy: 0.9768\n",
      "Epoch 00014: val_loss improved from 1.49020 to 1.48869, saving model to checkpoints/basic_structure20200623-154955.ckpt\n",
      "1875/1875 [==============================] - 18s 10ms/step - loss: 1.4843 - sparse_categorical_accuracy: 0.9768 - val_loss: 1.4887 - val_sparse_categorical_accuracy: 0.9724 - lr: 1.0000e-04\n",
      "Epoch 15/50\n",
      "1875/1875 [==============================] - ETA: 0s - loss: 1.4836 - sparse_categorical_accuracy: 0.9775\n",
      "Epoch 00015: val_loss did not improve from 1.48869\n",
      "1875/1875 [==============================] - 19s 10ms/step - loss: 1.4836 - sparse_categorical_accuracy: 0.9775 - val_loss: 1.4891 - val_sparse_categorical_accuracy: 0.9720 - lr: 1.0000e-04\n",
      "Epoch 16/50\n",
      "1875/1875 [==============================] - ETA: 0s - loss: 1.4828 - sparse_categorical_accuracy: 0.9783\n",
      "Epoch 00016: val_loss did not improve from 1.48869\n",
      "1875/1875 [==============================] - 19s 10ms/step - loss: 1.4828 - sparse_categorical_accuracy: 0.9783 - val_loss: 1.4889 - val_sparse_categorical_accuracy: 0.9722 - lr: 1.0000e-04\n",
      "Epoch 17/50\n",
      "1874/1875 [============================>.] - ETA: 0s - loss: 1.4820 - sparse_categorical_accuracy: 0.9791\n",
      "Epoch 00017: val_loss improved from 1.48869 to 1.48771, saving model to checkpoints/basic_structure20200623-154955.ckpt\n",
      "1875/1875 [==============================] - 20s 11ms/step - loss: 1.4820 - sparse_categorical_accuracy: 0.9791 - val_loss: 1.4877 - val_sparse_categorical_accuracy: 0.9732 - lr: 1.0000e-04\n",
      "Epoch 18/50\n",
      "1874/1875 [============================>.] - ETA: 0s - loss: 1.4816 - sparse_categorical_accuracy: 0.9796\n",
      "Epoch 00018: val_loss improved from 1.48771 to 1.48759, saving model to checkpoints/basic_structure20200623-154955.ckpt\n",
      "1875/1875 [==============================] - 20s 10ms/step - loss: 1.4815 - sparse_categorical_accuracy: 0.9796 - val_loss: 1.4876 - val_sparse_categorical_accuracy: 0.9735 - lr: 1.0000e-04\n",
      "Epoch 19/50\n",
      "1874/1875 [============================>.] - ETA: 0s - loss: 1.4810 - sparse_categorical_accuracy: 0.9801\n",
      "Epoch 00019: val_loss improved from 1.48759 to 1.48759, saving model to checkpoints/basic_structure20200623-154955.ckpt\n",
      "1875/1875 [==============================] - 19s 10ms/step - loss: 1.4810 - sparse_categorical_accuracy: 0.9801 - val_loss: 1.4876 - val_sparse_categorical_accuracy: 0.9734 - lr: 1.0000e-04\n",
      "Epoch 20/50\n",
      "1873/1875 [============================>.] - ETA: 0s - loss: 1.4804 - sparse_categorical_accuracy: 0.9808\n",
      "Epoch 00020: val_loss improved from 1.48759 to 1.48720, saving model to checkpoints/basic_structure20200623-154955.ckpt\n",
      "1875/1875 [==============================] - 20s 10ms/step - loss: 1.4804 - sparse_categorical_accuracy: 0.9808 - val_loss: 1.4872 - val_sparse_categorical_accuracy: 0.9739 - lr: 1.0000e-04\n",
      "Epoch 21/50\n",
      "1874/1875 [============================>.] - ETA: 0s - loss: 1.4799 - sparse_categorical_accuracy: 0.9813\n",
      "Epoch 00021: val_loss improved from 1.48720 to 1.48611, saving model to checkpoints/basic_structure20200623-154955.ckpt\n",
      "1875/1875 [==============================] - 18s 10ms/step - loss: 1.4799 - sparse_categorical_accuracy: 0.9813 - val_loss: 1.4861 - val_sparse_categorical_accuracy: 0.9751 - lr: 1.0000e-04\n"
     ]
    },
    {
     "name": "stdout",
     "output_type": "stream",
     "text": [
      "Epoch 22/50\n",
      "1875/1875 [==============================] - ETA: 0s - loss: 1.4795 - sparse_categorical_accuracy: 0.9816\n",
      "Epoch 00022: val_loss did not improve from 1.48611\n",
      "1875/1875 [==============================] - 18s 10ms/step - loss: 1.4795 - sparse_categorical_accuracy: 0.9816 - val_loss: 1.4874 - val_sparse_categorical_accuracy: 0.9736 - lr: 1.0000e-04\n",
      "Epoch 23/50\n",
      "1871/1875 [============================>.] - ETA: 0s - loss: 1.4793 - sparse_categorical_accuracy: 0.9818\n",
      "Epoch 00023: val_loss improved from 1.48611 to 1.48585, saving model to checkpoints/basic_structure20200623-154955.ckpt\n",
      "1875/1875 [==============================] - 18s 10ms/step - loss: 1.4793 - sparse_categorical_accuracy: 0.9818 - val_loss: 1.4859 - val_sparse_categorical_accuracy: 0.9752 - lr: 1.0000e-04\n",
      "Epoch 24/50\n",
      "1870/1875 [============================>.] - ETA: 0s - loss: 1.4790 - sparse_categorical_accuracy: 0.9821\n",
      "Epoch 00024: val_loss did not improve from 1.48585\n",
      "1875/1875 [==============================] - 18s 10ms/step - loss: 1.4790 - sparse_categorical_accuracy: 0.9821 - val_loss: 1.4865 - val_sparse_categorical_accuracy: 0.9747 - lr: 1.0000e-04\n",
      "Epoch 25/50\n",
      "1869/1875 [============================>.] - ETA: 0s - loss: 1.4786 - sparse_categorical_accuracy: 0.9825\n",
      "Epoch 00025: val_loss did not improve from 1.48585\n",
      "1875/1875 [==============================] - 19s 10ms/step - loss: 1.4787 - sparse_categorical_accuracy: 0.9825 - val_loss: 1.4863 - val_sparse_categorical_accuracy: 0.9748 - lr: 1.0000e-04\n",
      "Epoch 26/50\n",
      "1871/1875 [============================>.] - ETA: 0s - loss: 1.4784 - sparse_categorical_accuracy: 0.9827\n",
      "Epoch 00026: val_loss did not improve from 1.48585\n",
      "1875/1875 [==============================] - 19s 10ms/step - loss: 1.4784 - sparse_categorical_accuracy: 0.9827 - val_loss: 1.4869 - val_sparse_categorical_accuracy: 0.9742 - lr: 1.0000e-04\n",
      "Epoch 27/50\n",
      "1871/1875 [============================>.] - ETA: 0s - loss: 1.4785 - sparse_categorical_accuracy: 0.9826\n",
      "Epoch 00027: val_loss did not improve from 1.48585\n",
      "1875/1875 [==============================] - 20s 11ms/step - loss: 1.4785 - sparse_categorical_accuracy: 0.9826 - val_loss: 1.4860 - val_sparse_categorical_accuracy: 0.9750 - lr: 1.0000e-05\n",
      "Epoch 28/50\n",
      "1873/1875 [============================>.] - ETA: 0s - loss: 1.4780 - sparse_categorical_accuracy: 0.9832\n",
      "Epoch 00028: val_loss did not improve from 1.48585\n",
      "1875/1875 [==============================] - 20s 11ms/step - loss: 1.4780 - sparse_categorical_accuracy: 0.9832 - val_loss: 1.4859 - val_sparse_categorical_accuracy: 0.9753 - lr: 1.0000e-05\n",
      "Epoch 29/50\n",
      "1873/1875 [============================>.] - ETA: 0s - loss: 1.4779 - sparse_categorical_accuracy: 0.9832\n",
      "Epoch 00029: val_loss improved from 1.48585 to 1.48583, saving model to checkpoints/basic_structure20200623-154955.ckpt\n",
      "1875/1875 [==============================] - 19s 10ms/step - loss: 1.4779 - sparse_categorical_accuracy: 0.9832 - val_loss: 1.4858 - val_sparse_categorical_accuracy: 0.9754 - lr: 1.0000e-05\n",
      "Epoch 30/50\n",
      "1873/1875 [============================>.] - ETA: 0s - loss: 1.4778 - sparse_categorical_accuracy: 0.9833\n",
      "Epoch 00030: val_loss improved from 1.48583 to 1.48573, saving model to checkpoints/basic_structure20200623-154955.ckpt\n",
      "1875/1875 [==============================] - 19s 10ms/step - loss: 1.4778 - sparse_categorical_accuracy: 0.9833 - val_loss: 1.4857 - val_sparse_categorical_accuracy: 0.9753 - lr: 1.0000e-05\n",
      "Epoch 31/50\n",
      "1875/1875 [==============================] - ETA: 0s - loss: 1.4777 - sparse_categorical_accuracy: 0.9834\n",
      "Epoch 00031: val_loss did not improve from 1.48573\n",
      "1875/1875 [==============================] - 18s 10ms/step - loss: 1.4777 - sparse_categorical_accuracy: 0.9834 - val_loss: 1.4858 - val_sparse_categorical_accuracy: 0.9754 - lr: 1.0000e-05\n",
      "Epoch 32/50\n",
      "1869/1875 [============================>.] - ETA: 0s - loss: 1.4777 - sparse_categorical_accuracy: 0.9834\n",
      "Epoch 00032: val_loss did not improve from 1.48573\n",
      "1875/1875 [==============================] - 19s 10ms/step - loss: 1.4777 - sparse_categorical_accuracy: 0.9834 - val_loss: 1.4858 - val_sparse_categorical_accuracy: 0.9754 - lr: 1.0000e-05\n",
      "Epoch 33/50\n",
      "1875/1875 [==============================] - ETA: 0s - loss: 1.4777 - sparse_categorical_accuracy: 0.9835\n",
      "Epoch 00033: val_loss did not improve from 1.48573\n",
      "1875/1875 [==============================] - 23s 12ms/step - loss: 1.4777 - sparse_categorical_accuracy: 0.9835 - val_loss: 1.4859 - val_sparse_categorical_accuracy: 0.9752 - lr: 1.0000e-05\n",
      "Epoch 34/50\n",
      "1873/1875 [============================>.] - ETA: 0s - loss: 1.4776 - sparse_categorical_accuracy: 0.9835\n",
      "Epoch 00034: val_loss did not improve from 1.48573\n",
      "1875/1875 [==============================] - 22s 12ms/step - loss: 1.4776 - sparse_categorical_accuracy: 0.9835 - val_loss: 1.4859 - val_sparse_categorical_accuracy: 0.9754 - lr: 1.0000e-05\n",
      "Epoch 35/50\n",
      "1871/1875 [============================>.] - ETA: 0s - loss: 1.4776 - sparse_categorical_accuracy: 0.9835\n",
      "Epoch 00035: val_loss did not improve from 1.48573\n",
      "1875/1875 [==============================] - 22s 12ms/step - loss: 1.4776 - sparse_categorical_accuracy: 0.9835 - val_loss: 1.4858 - val_sparse_categorical_accuracy: 0.9754 - lr: 1.0000e-05\n",
      "Epoch 36/50\n",
      "1872/1875 [============================>.] - ETA: 0s - loss: 1.4776 - sparse_categorical_accuracy: 0.9836\n",
      "Epoch 00036: val_loss did not improve from 1.48573\n",
      "1875/1875 [==============================] - 21s 11ms/step - loss: 1.4776 - sparse_categorical_accuracy: 0.9835 - val_loss: 1.4858 - val_sparse_categorical_accuracy: 0.9754 - lr: 1.0000e-05\n",
      "Epoch 37/50\n",
      "1872/1875 [============================>.] - ETA: 0s - loss: 1.4776 - sparse_categorical_accuracy: 0.9835\n",
      "Epoch 00037: val_loss did not improve from 1.48573\n",
      "1875/1875 [==============================] - 22s 12ms/step - loss: 1.4776 - sparse_categorical_accuracy: 0.9836 - val_loss: 1.4861 - val_sparse_categorical_accuracy: 0.9751 - lr: 1.0000e-05\n",
      "Epoch 38/50\n",
      "1873/1875 [============================>.] - ETA: 0s - loss: 1.4776 - sparse_categorical_accuracy: 0.9836\n",
      "Epoch 00038: val_loss did not improve from 1.48573\n",
      "1875/1875 [==============================] - 23s 12ms/step - loss: 1.4776 - sparse_categorical_accuracy: 0.9836 - val_loss: 1.4860 - val_sparse_categorical_accuracy: 0.9752 - lr: 1.0000e-05\n",
      "Epoch 39/50\n",
      "1870/1875 [============================>.] - ETA: 0s - loss: 1.4776 - sparse_categorical_accuracy: 0.9836\n",
      "Epoch 00039: val_loss did not improve from 1.48573\n",
      "1875/1875 [==============================] - 23s 12ms/step - loss: 1.4775 - sparse_categorical_accuracy: 0.9836 - val_loss: 1.4859 - val_sparse_categorical_accuracy: 0.9753 - lr: 1.0000e-05\n",
      "Epoch 40/50\n",
      "1875/1875 [==============================] - ETA: 0s - loss: 1.4775 - sparse_categorical_accuracy: 0.9836\n",
      "Epoch 00040: val_loss did not improve from 1.48573\n",
      "1875/1875 [==============================] - 22s 12ms/step - loss: 1.4775 - sparse_categorical_accuracy: 0.9836 - val_loss: 1.4861 - val_sparse_categorical_accuracy: 0.9750 - lr: 1.0000e-05\n",
      "Epoch 41/50\n",
      "1875/1875 [==============================] - ETA: 0s - loss: 1.4775 - sparse_categorical_accuracy: 0.9836\n",
      "Epoch 00041: val_loss did not improve from 1.48573\n",
      "1875/1875 [==============================] - 21s 11ms/step - loss: 1.4775 - sparse_categorical_accuracy: 0.9836 - val_loss: 1.4859 - val_sparse_categorical_accuracy: 0.9752 - lr: 1.0000e-05\n",
      "Epoch 42/50\n",
      "1871/1875 [============================>.] - ETA: 0s - loss: 1.4775 - sparse_categorical_accuracy: 0.9836\n",
      "Epoch 00042: val_loss did not improve from 1.48573\n",
      "1875/1875 [==============================] - 20s 11ms/step - loss: 1.4775 - sparse_categorical_accuracy: 0.9836 - val_loss: 1.4862 - val_sparse_categorical_accuracy: 0.9749 - lr: 1.0000e-05\n",
      "Epoch 43/50\n",
      "1873/1875 [============================>.] - ETA: 0s - loss: 1.4775 - sparse_categorical_accuracy: 0.9837\n",
      "Epoch 00043: val_loss did not improve from 1.48573\n",
      "1875/1875 [==============================] - 20s 11ms/step - loss: 1.4775 - sparse_categorical_accuracy: 0.9837 - val_loss: 1.4859 - val_sparse_categorical_accuracy: 0.9752 - lr: 1.0000e-05\n",
      "Epoch 44/50\n"
     ]
    },
    {
     "name": "stdout",
     "output_type": "stream",
     "text": [
      "1875/1875 [==============================] - ETA: 0s - loss: 1.4775 - sparse_categorical_accuracy: 0.9837\n",
      "Epoch 00044: val_loss did not improve from 1.48573\n",
      "1875/1875 [==============================] - 21s 11ms/step - loss: 1.4775 - sparse_categorical_accuracy: 0.9837 - val_loss: 1.4860 - val_sparse_categorical_accuracy: 0.9752 - lr: 1.0000e-05\n",
      "Epoch 45/50\n",
      "1869/1875 [============================>.] - ETA: 0s - loss: 1.4775 - sparse_categorical_accuracy: 0.9836\n",
      "Epoch 00045: val_loss did not improve from 1.48573\n",
      "1875/1875 [==============================] - 22s 12ms/step - loss: 1.4775 - sparse_categorical_accuracy: 0.9837 - val_loss: 1.4860 - val_sparse_categorical_accuracy: 0.9752 - lr: 1.0000e-05\n",
      "Epoch 46/50\n",
      "1873/1875 [============================>.] - ETA: 0s - loss: 1.4775 - sparse_categorical_accuracy: 0.9836\n",
      "Epoch 00046: val_loss did not improve from 1.48573\n",
      "1875/1875 [==============================] - 22s 11ms/step - loss: 1.4775 - sparse_categorical_accuracy: 0.9837 - val_loss: 1.4858 - val_sparse_categorical_accuracy: 0.9754 - lr: 1.0000e-05\n",
      "Epoch 47/50\n",
      "1874/1875 [============================>.] - ETA: 0s - loss: 1.4775 - sparse_categorical_accuracy: 0.9837\n",
      "Epoch 00047: val_loss did not improve from 1.48573\n",
      "1875/1875 [==============================] - 22s 12ms/step - loss: 1.4775 - sparse_categorical_accuracy: 0.9837 - val_loss: 1.4860 - val_sparse_categorical_accuracy: 0.9753 - lr: 1.0000e-05\n",
      "Epoch 48/50\n",
      "1874/1875 [============================>.] - ETA: 0s - loss: 1.4775 - sparse_categorical_accuracy: 0.9837\n",
      "Epoch 00048: val_loss did not improve from 1.48573\n",
      "1875/1875 [==============================] - 22s 12ms/step - loss: 1.4775 - sparse_categorical_accuracy: 0.9837 - val_loss: 1.4858 - val_sparse_categorical_accuracy: 0.9753 - lr: 1.0000e-05\n",
      "Epoch 49/50\n",
      "1872/1875 [============================>.] - ETA: 0s - loss: 1.4775 - sparse_categorical_accuracy: 0.9836\n",
      "Epoch 00049: val_loss did not improve from 1.48573\n",
      "1875/1875 [==============================] - 22s 12ms/step - loss: 1.4775 - sparse_categorical_accuracy: 0.9837 - val_loss: 1.4860 - val_sparse_categorical_accuracy: 0.9750 - lr: 1.0000e-05\n",
      "Epoch 50/50\n",
      "1874/1875 [============================>.] - ETA: 0s - loss: 1.4775 - sparse_categorical_accuracy: 0.9837\n",
      "Epoch 00050: val_loss did not improve from 1.48573\n",
      "1875/1875 [==============================] - 21s 11ms/step - loss: 1.4775 - sparse_categorical_accuracy: 0.9837 - val_loss: 1.4859 - val_sparse_categorical_accuracy: 0.9753 - lr: 1.0000e-05\n"
     ]
    },
    {
     "data": {
      "text/plain": [
       "<tensorflow.python.keras.callbacks.History at 0x7fe6f86b2b90>"
      ]
     },
     "execution_count": 10,
     "metadata": {},
     "output_type": "execute_result"
    }
   ],
   "source": [
    "model.fit(\n",
    "    x_train,\n",
    "    y_train,\n",
    "    validation_data=(x_test, y_test),\n",
    "    epochs=epochs,\n",
    "    callbacks=[checkpoint, reduce_lr, tensorboard_callback],\n",
    ")"
   ]
  },
  {
   "cell_type": "markdown",
   "metadata": {},
   "source": [
    "## Check the training process via tensorboard"
   ]
  },
  {
   "cell_type": "code",
   "execution_count": 11,
   "metadata": {
    "ExecuteTime": {
     "end_time": "2020-06-23T07:05:50.139868Z",
     "start_time": "2020-06-23T07:05:46.562668Z"
    }
   },
   "outputs": [
    {
     "data": {
      "text/html": [
       "\n",
       "      <iframe id=\"tensorboard-frame-ce60f0a88527684b\" width=\"100%\" height=\"800\" frameborder=\"0\">\n",
       "      </iframe>\n",
       "      <script>\n",
       "        (function() {\n",
       "          const frame = document.getElementById(\"tensorboard-frame-ce60f0a88527684b\");\n",
       "          const url = new URL(\"/\", window.location);\n",
       "          url.port = 6007;\n",
       "          frame.src = url;\n",
       "        })();\n",
       "      </script>\n",
       "  "
      ],
      "text/plain": [
       "<IPython.core.display.HTML object>"
      ]
     },
     "metadata": {},
     "output_type": "display_data"
    }
   ],
   "source": [
    "%tensorboard --logdir logs"
   ]
  },
  {
   "cell_type": "markdown",
   "metadata": {},
   "source": [
    "## Load the best weights"
   ]
  },
  {
   "cell_type": "code",
   "execution_count": 12,
   "metadata": {
    "ExecuteTime": {
     "end_time": "2020-06-23T07:05:50.175761Z",
     "start_time": "2020-06-23T07:05:50.141418Z"
    }
   },
   "outputs": [
    {
     "data": {
      "text/plain": [
       "<tensorflow.python.training.tracking.util.CheckpointLoadStatus at 0x7fe720e21a90>"
      ]
     },
     "execution_count": 12,
     "metadata": {},
     "output_type": "execute_result"
    }
   ],
   "source": [
    "model.load_weights(checkpoint_path)"
   ]
  },
  {
   "cell_type": "markdown",
   "metadata": {},
   "source": [
    "## Evaluate the model"
   ]
  },
  {
   "cell_type": "code",
   "execution_count": null,
   "metadata": {
    "ExecuteTime": {
     "start_time": "2020-06-23T06:49:53.860Z"
    }
   },
   "outputs": [
    {
     "name": "stdout",
     "output_type": "stream",
     "text": [
      "\r",
      "  1/313 [..............................] - ETA: 0s - loss: 1.4612 - sparse_categorical_accuracy: 1.0000"
     ]
    }
   ],
   "source": [
    "model.evaluate(x_test, y_test)"
   ]
  },
  {
   "cell_type": "code",
   "execution_count": null,
   "metadata": {},
   "outputs": [],
   "source": []
  }
 ],
 "metadata": {
  "kernelspec": {
   "display_name": "Python 3",
   "language": "python",
   "name": "python3"
  },
  "language_info": {
   "codemirror_mode": {
    "name": "ipython",
    "version": 3
   },
   "file_extension": ".py",
   "mimetype": "text/x-python",
   "name": "python",
   "nbconvert_exporter": "python",
   "pygments_lexer": "ipython3",
   "version": "3.7.7"
  },
  "toc": {
   "base_numbering": 1,
   "nav_menu": {},
   "number_sections": true,
   "sideBar": true,
   "skip_h1_title": false,
   "title_cell": "Table of Contents",
   "title_sidebar": "Contents",
   "toc_cell": false,
   "toc_position": {},
   "toc_section_display": true,
   "toc_window_display": false
  },
  "varInspector": {
   "cols": {
    "lenName": 16,
    "lenType": 16,
    "lenVar": 40
   },
   "kernels_config": {
    "python": {
     "delete_cmd_postfix": "",
     "delete_cmd_prefix": "del ",
     "library": "var_list.py",
     "varRefreshCmd": "print(var_dic_list())"
    },
    "r": {
     "delete_cmd_postfix": ") ",
     "delete_cmd_prefix": "rm(",
     "library": "var_list.r",
     "varRefreshCmd": "cat(var_dic_list()) "
    }
   },
   "types_to_exclude": [
    "module",
    "function",
    "builtin_function_or_method",
    "instance",
    "_Feature"
   ],
   "window_display": false
  }
 },
 "nbformat": 4,
 "nbformat_minor": 4
}
