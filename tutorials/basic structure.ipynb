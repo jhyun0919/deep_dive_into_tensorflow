{
 "cells": [
  {
   "cell_type": "markdown",
   "metadata": {},
   "source": [
    "# Basic Structure of Training a Model"
   ]
  },
  {
   "cell_type": "code",
   "execution_count": 1,
   "metadata": {
    "ExecuteTime": {
     "end_time": "2020-06-22T18:50:01.193980Z",
     "start_time": "2020-06-22T18:49:59.143106Z"
    }
   },
   "outputs": [],
   "source": [
    "import tensorflow as tf\n",
    "from datetime import datetime"
   ]
  },
  {
   "cell_type": "markdown",
   "metadata": {},
   "source": [
    "## Hyper-parameters"
   ]
  },
  {
   "cell_type": "code",
   "execution_count": 2,
   "metadata": {
    "ExecuteTime": {
     "end_time": "2020-06-22T18:50:01.198348Z",
     "start_time": "2020-06-22T18:50:01.195949Z"
    }
   },
   "outputs": [],
   "source": [
    "num_classes = 10\n",
    "\n",
    "epochs = 50\n",
    "batch_size = 16"
   ]
  },
  {
   "cell_type": "markdown",
   "metadata": {},
   "source": [
    "## Data pre-process"
   ]
  },
  {
   "cell_type": "code",
   "execution_count": 3,
   "metadata": {
    "ExecuteTime": {
     "end_time": "2020-06-22T18:50:01.623761Z",
     "start_time": "2020-06-22T18:50:01.200450Z"
    }
   },
   "outputs": [],
   "source": [
    "mnist = tf.keras.datasets.mnist\n",
    "(x_train, y_train), (x_test, y_test) = mnist.load_data()\n",
    "\n",
    "x_train = x_train / 255.0\n",
    "x_test = x_test / 255.0"
   ]
  },
  {
   "cell_type": "markdown",
   "metadata": {},
   "source": [
    "## Set up a model"
   ]
  },
  {
   "cell_type": "code",
   "execution_count": 4,
   "metadata": {
    "ExecuteTime": {
     "end_time": "2020-06-22T18:50:01.640948Z",
     "start_time": "2020-06-22T18:50:01.625997Z"
    }
   },
   "outputs": [],
   "source": [
    "class MyModel(tf.keras.Model):\n",
    "    def __init__(self):\n",
    "        super(MyModel, self).__init__()\n",
    "        self.flat = tf.keras.layers.Flatten(input_shape=(28, 28))\n",
    "        self.d1 = tf.keras.layers.Dense(512, activation='relu')\n",
    "        self.d2 = tf.keras.layers.Dense(256, activation='relu')\n",
    "        self.d3 = tf.keras.layers.Dense(128, activation='relu')\n",
    "        self.d4 = tf.keras.layers.Dense(64, activation='relu')\n",
    "        self.d5 = tf.keras.layers.Dense(32, activation='relu')\n",
    "        self.d6 = tf.keras.layers.Dense(num_classes, activation='softmax')\n",
    "        \n",
    "    def call(self, inputs):\n",
    "        x = self.flat(inputs)\n",
    "        x = self.d1(x)\n",
    "        x = self.d2(x)\n",
    "        x = self.d3(x)\n",
    "        x = self.d4(x)\n",
    "        x = self.d5(x)\n",
    "        return self.d6(x)\n",
    "    \n",
    "model = MyModel()"
   ]
  },
  {
   "cell_type": "markdown",
   "metadata": {},
   "source": [
    "## Set up callbacks\n",
    "### checkpoint"
   ]
  },
  {
   "cell_type": "code",
   "execution_count": 5,
   "metadata": {
    "ExecuteTime": {
     "end_time": "2020-06-22T18:50:01.645342Z",
     "start_time": "2020-06-22T18:50:01.642837Z"
    }
   },
   "outputs": [],
   "source": [
    "checkpoint_path = 'my_checkpoint.ckpt'\n",
    "checkpoint = tf.keras.callbacks.ModelCheckpoint(checkpoint_path,\n",
    "                                                save_best_only=True,\n",
    "                                                save_weights_only=True,\n",
    "                                                monitor='val_loss',\n",
    "                                                verbose=1)"
   ]
  },
  {
   "cell_type": "markdown",
   "metadata": {},
   "source": [
    "### tensorboard"
   ]
  },
  {
   "cell_type": "code",
   "execution_count": 6,
   "metadata": {
    "ExecuteTime": {
     "end_time": "2020-06-22T18:50:01.778118Z",
     "start_time": "2020-06-22T18:50:01.646637Z"
    }
   },
   "outputs": [],
   "source": [
    "%load_ext tensorboard\n",
    "# Clear any logs from previous runs\n",
    "!rm -rf ./logs/\n",
    "\n",
    "logdir=\"logs/fit/\" + datetime.now().strftime(\"%Y%m%d-%H%M%S\")\n",
    "tensorboard_callback = tf.keras.callbacks.TensorBoard(log_dir=logdir)"
   ]
  },
  {
   "cell_type": "markdown",
   "metadata": {},
   "source": [
    "### reduce learning rate"
   ]
  },
  {
   "cell_type": "code",
   "execution_count": 7,
   "metadata": {
    "ExecuteTime": {
     "end_time": "2020-06-22T18:50:01.784570Z",
     "start_time": "2020-06-22T18:50:01.781063Z"
    }
   },
   "outputs": [],
   "source": [
    "reduce_lr = tf.keras.callbacks.ReduceLROnPlateau(monitor='val_loss',\n",
    "                                                 factor=0.1,\n",
    "                                                 patience=3,\n",
    "                                                 min_lr=0.00001)"
   ]
  },
  {
   "cell_type": "markdown",
   "metadata": {},
   "source": [
    "## Set up optimizer, loss function, & metrics"
   ]
  },
  {
   "cell_type": "code",
   "execution_count": 8,
   "metadata": {
    "ExecuteTime": {
     "end_time": "2020-06-22T18:50:01.810155Z",
     "start_time": "2020-06-22T18:50:01.786121Z"
    }
   },
   "outputs": [],
   "source": [
    "optimizer = tf.keras.optimizers.RMSprop(0.001)\n",
    "loss = tf.keras.losses.SparseCategoricalCrossentropy(from_logits=True)\n",
    "metric_acc = tf.keras.metrics.SparseCategoricalAccuracy()"
   ]
  },
  {
   "cell_type": "markdown",
   "metadata": {},
   "source": [
    "## Compile the model"
   ]
  },
  {
   "cell_type": "code",
   "execution_count": 9,
   "metadata": {
    "ExecuteTime": {
     "end_time": "2020-06-22T18:50:01.822863Z",
     "start_time": "2020-06-22T18:50:01.813684Z"
    }
   },
   "outputs": [],
   "source": [
    "model.compile(optimizer, loss, metrics=[metric_acc])"
   ]
  },
  {
   "cell_type": "markdown",
   "metadata": {},
   "source": [
    "## Fit the model"
   ]
  },
  {
   "cell_type": "code",
   "execution_count": 10,
   "metadata": {
    "ExecuteTime": {
     "end_time": "2020-06-22T19:06:00.538405Z",
     "start_time": "2020-06-22T18:50:01.825742Z"
    }
   },
   "outputs": [
    {
     "name": "stdout",
     "output_type": "stream",
     "text": [
      "Epoch 1/50\n",
      "1866/1875 [============================>.] - ETA: 0s - loss: 1.5704 - sparse_categorical_accuracy: 0.8921\n",
      "Epoch 00001: val_loss improved from inf to 1.53596, saving model to my_checkpoint.ckpt\n",
      "1875/1875 [==============================] - 9s 5ms/step - loss: 1.5701 - sparse_categorical_accuracy: 0.8924 - val_loss: 1.5360 - val_sparse_categorical_accuracy: 0.9249 - lr: 0.0010\n",
      "Epoch 2/50\n",
      "1872/1875 [============================>.] - ETA: 0s - loss: 1.5230 - sparse_categorical_accuracy: 0.9380\n",
      "Epoch 00002: val_loss improved from 1.53596 to 1.52525, saving model to my_checkpoint.ckpt\n",
      "1875/1875 [==============================] - 11s 6ms/step - loss: 1.5229 - sparse_categorical_accuracy: 0.9380 - val_loss: 1.5253 - val_sparse_categorical_accuracy: 0.9357 - lr: 0.0010\n",
      "Epoch 3/50\n",
      "1872/1875 [============================>.] - ETA: 0s - loss: 1.5166 - sparse_categorical_accuracy: 0.9442\n",
      "Epoch 00003: val_loss improved from 1.52525 to 1.51601, saving model to my_checkpoint.ckpt\n",
      "1875/1875 [==============================] - 13s 7ms/step - loss: 1.5166 - sparse_categorical_accuracy: 0.9442 - val_loss: 1.5160 - val_sparse_categorical_accuracy: 0.9451 - lr: 0.0010\n",
      "Epoch 4/50\n",
      "1874/1875 [============================>.] - ETA: 0s - loss: 1.5095 - sparse_categorical_accuracy: 0.9514\n",
      "Epoch 00004: val_loss improved from 1.51601 to 1.50408, saving model to my_checkpoint.ckpt\n",
      "1875/1875 [==============================] - 13s 7ms/step - loss: 1.5095 - sparse_categorical_accuracy: 0.9514 - val_loss: 1.5041 - val_sparse_categorical_accuracy: 0.9571 - lr: 0.0010\n",
      "Epoch 5/50\n",
      "1870/1875 [============================>.] - ETA: 0s - loss: 1.5096 - sparse_categorical_accuracy: 0.9514\n",
      "Epoch 00005: val_loss did not improve from 1.50408\n",
      "1875/1875 [==============================] - 14s 8ms/step - loss: 1.5097 - sparse_categorical_accuracy: 0.9513 - val_loss: 1.5064 - val_sparse_categorical_accuracy: 0.9547 - lr: 0.0010\n",
      "Epoch 6/50\n",
      "1871/1875 [============================>.] - ETA: 0s - loss: 1.5073 - sparse_categorical_accuracy: 0.9538\n",
      "Epoch 00006: val_loss did not improve from 1.50408\n",
      "1875/1875 [==============================] - 16s 9ms/step - loss: 1.5073 - sparse_categorical_accuracy: 0.9538 - val_loss: 1.5321 - val_sparse_categorical_accuracy: 0.9287 - lr: 0.0010\n",
      "Epoch 7/50\n",
      "1873/1875 [============================>.] - ETA: 0s - loss: 1.5093 - sparse_categorical_accuracy: 0.9518\n",
      "Epoch 00007: val_loss did not improve from 1.50408\n",
      "1875/1875 [==============================] - 17s 9ms/step - loss: 1.5093 - sparse_categorical_accuracy: 0.9518 - val_loss: 1.5097 - val_sparse_categorical_accuracy: 0.9511 - lr: 0.0010\n",
      "Epoch 8/50\n",
      "1874/1875 [============================>.] - ETA: 0s - loss: 1.4937 - sparse_categorical_accuracy: 0.9674\n",
      "Epoch 00008: val_loss improved from 1.50408 to 1.49329, saving model to my_checkpoint.ckpt\n",
      "1875/1875 [==============================] - 19s 10ms/step - loss: 1.4937 - sparse_categorical_accuracy: 0.9674 - val_loss: 1.4933 - val_sparse_categorical_accuracy: 0.9678 - lr: 1.0000e-04\n",
      "Epoch 9/50\n",
      "1872/1875 [============================>.] - ETA: 0s - loss: 1.4897 - sparse_categorical_accuracy: 0.9714\n",
      "Epoch 00009: val_loss improved from 1.49329 to 1.49326, saving model to my_checkpoint.ckpt\n",
      "1875/1875 [==============================] - 18s 10ms/step - loss: 1.4897 - sparse_categorical_accuracy: 0.9714 - val_loss: 1.4933 - val_sparse_categorical_accuracy: 0.9677 - lr: 1.0000e-04\n",
      "Epoch 10/50\n",
      "1869/1875 [============================>.] - ETA: 0s - loss: 1.4885 - sparse_categorical_accuracy: 0.9726\n",
      "Epoch 00010: val_loss improved from 1.49326 to 1.49278, saving model to my_checkpoint.ckpt\n",
      "1875/1875 [==============================] - 17s 9ms/step - loss: 1.4885 - sparse_categorical_accuracy: 0.9726 - val_loss: 1.4928 - val_sparse_categorical_accuracy: 0.9683 - lr: 1.0000e-04\n",
      "Epoch 11/50\n",
      "1870/1875 [============================>.] - ETA: 0s - loss: 1.4868 - sparse_categorical_accuracy: 0.9744\n",
      "Epoch 00011: val_loss improved from 1.49278 to 1.49120, saving model to my_checkpoint.ckpt\n",
      "1875/1875 [==============================] - 18s 9ms/step - loss: 1.4868 - sparse_categorical_accuracy: 0.9744 - val_loss: 1.4912 - val_sparse_categorical_accuracy: 0.9699 - lr: 1.0000e-04\n",
      "Epoch 12/50\n",
      "1873/1875 [============================>.] - ETA: 0s - loss: 1.4858 - sparse_categorical_accuracy: 0.9753\n",
      "Epoch 00012: val_loss improved from 1.49120 to 1.49050, saving model to my_checkpoint.ckpt\n",
      "1875/1875 [==============================] - 18s 10ms/step - loss: 1.4858 - sparse_categorical_accuracy: 0.9753 - val_loss: 1.4905 - val_sparse_categorical_accuracy: 0.9705 - lr: 1.0000e-04\n",
      "Epoch 13/50\n",
      "1873/1875 [============================>.] - ETA: 0s - loss: 1.4848 - sparse_categorical_accuracy: 0.9763\n",
      "Epoch 00013: val_loss improved from 1.49050 to 1.49008, saving model to my_checkpoint.ckpt\n",
      "1875/1875 [==============================] - 19s 10ms/step - loss: 1.4848 - sparse_categorical_accuracy: 0.9763 - val_loss: 1.4901 - val_sparse_categorical_accuracy: 0.9711 - lr: 1.0000e-04\n",
      "Epoch 14/50\n",
      "1873/1875 [============================>.] - ETA: 0s - loss: 1.4839 - sparse_categorical_accuracy: 0.9772\n",
      "Epoch 00014: val_loss improved from 1.49008 to 1.48955, saving model to my_checkpoint.ckpt\n",
      "1875/1875 [==============================] - 19s 10ms/step - loss: 1.4839 - sparse_categorical_accuracy: 0.9772 - val_loss: 1.4895 - val_sparse_categorical_accuracy: 0.9715 - lr: 1.0000e-04\n",
      "Epoch 15/50\n",
      "1875/1875 [==============================] - ETA: 0s - loss: 1.4834 - sparse_categorical_accuracy: 0.9778\n",
      "Epoch 00015: val_loss improved from 1.48955 to 1.48848, saving model to my_checkpoint.ckpt\n",
      "1875/1875 [==============================] - 20s 11ms/step - loss: 1.4834 - sparse_categorical_accuracy: 0.9778 - val_loss: 1.4885 - val_sparse_categorical_accuracy: 0.9727 - lr: 1.0000e-04\n",
      "Epoch 16/50\n",
      "1874/1875 [============================>.] - ETA: 0s - loss: 1.4823 - sparse_categorical_accuracy: 0.9789\n",
      "Epoch 00016: val_loss improved from 1.48848 to 1.48837, saving model to my_checkpoint.ckpt\n",
      "1875/1875 [==============================] - 19s 10ms/step - loss: 1.4823 - sparse_categorical_accuracy: 0.9789 - val_loss: 1.4884 - val_sparse_categorical_accuracy: 0.9725 - lr: 1.0000e-04\n",
      "Epoch 17/50\n",
      "1872/1875 [============================>.] - ETA: 0s - loss: 1.4815 - sparse_categorical_accuracy: 0.9797\n",
      "Epoch 00017: val_loss did not improve from 1.48837\n",
      "1875/1875 [==============================] - 19s 10ms/step - loss: 1.4815 - sparse_categorical_accuracy: 0.9797 - val_loss: 1.4889 - val_sparse_categorical_accuracy: 0.9721 - lr: 1.0000e-04\n",
      "Epoch 18/50\n",
      "1872/1875 [============================>.] - ETA: 0s - loss: 1.4811 - sparse_categorical_accuracy: 0.9801\n",
      "Epoch 00018: val_loss improved from 1.48837 to 1.48768, saving model to my_checkpoint.ckpt\n",
      "1875/1875 [==============================] - 20s 11ms/step - loss: 1.4811 - sparse_categorical_accuracy: 0.9801 - val_loss: 1.4877 - val_sparse_categorical_accuracy: 0.9735 - lr: 1.0000e-04\n",
      "Epoch 19/50\n",
      "1873/1875 [============================>.] - ETA: 0s - loss: 1.4806 - sparse_categorical_accuracy: 0.9806\n",
      "Epoch 00019: val_loss improved from 1.48768 to 1.48767, saving model to my_checkpoint.ckpt\n",
      "1875/1875 [==============================] - 20s 11ms/step - loss: 1.4805 - sparse_categorical_accuracy: 0.9806 - val_loss: 1.4877 - val_sparse_categorical_accuracy: 0.9735 - lr: 1.0000e-04\n",
      "Epoch 20/50\n",
      "1870/1875 [============================>.] - ETA: 0s - loss: 1.4803 - sparse_categorical_accuracy: 0.9809\n",
      "Epoch 00020: val_loss did not improve from 1.48767\n",
      "1875/1875 [==============================] - 20s 11ms/step - loss: 1.4803 - sparse_categorical_accuracy: 0.9809 - val_loss: 1.4887 - val_sparse_categorical_accuracy: 0.9724 - lr: 1.0000e-04\n",
      "Epoch 21/50\n",
      "1873/1875 [============================>.] - ETA: 0s - loss: 1.4798 - sparse_categorical_accuracy: 0.9813\n",
      "Epoch 00021: val_loss did not improve from 1.48767\n",
      "1875/1875 [==============================] - 21s 11ms/step - loss: 1.4798 - sparse_categorical_accuracy: 0.9813 - val_loss: 1.4880 - val_sparse_categorical_accuracy: 0.9731 - lr: 1.0000e-04\n",
      "Epoch 22/50\n"
     ]
    },
    {
     "name": "stdout",
     "output_type": "stream",
     "text": [
      "1875/1875 [==============================] - ETA: 0s - loss: 1.4794 - sparse_categorical_accuracy: 0.9818\n",
      "Epoch 00022: val_loss improved from 1.48767 to 1.48752, saving model to my_checkpoint.ckpt\n",
      "1875/1875 [==============================] - 19s 10ms/step - loss: 1.4794 - sparse_categorical_accuracy: 0.9818 - val_loss: 1.4875 - val_sparse_categorical_accuracy: 0.9736 - lr: 1.0000e-05\n",
      "Epoch 23/50\n",
      "1873/1875 [============================>.] - ETA: 0s - loss: 1.4791 - sparse_categorical_accuracy: 0.9820\n",
      "Epoch 00023: val_loss did not improve from 1.48752\n",
      "1875/1875 [==============================] - 19s 10ms/step - loss: 1.4791 - sparse_categorical_accuracy: 0.9820 - val_loss: 1.4876 - val_sparse_categorical_accuracy: 0.9735 - lr: 1.0000e-05\n",
      "Epoch 24/50\n",
      "1873/1875 [============================>.] - ETA: 0s - loss: 1.4791 - sparse_categorical_accuracy: 0.9821\n",
      "Epoch 00024: val_loss did not improve from 1.48752\n",
      "1875/1875 [==============================] - 20s 11ms/step - loss: 1.4790 - sparse_categorical_accuracy: 0.9821 - val_loss: 1.4878 - val_sparse_categorical_accuracy: 0.9732 - lr: 1.0000e-05\n",
      "Epoch 25/50\n",
      "1872/1875 [============================>.] - ETA: 0s - loss: 1.4790 - sparse_categorical_accuracy: 0.9822\n",
      "Epoch 00025: val_loss did not improve from 1.48752\n",
      "1875/1875 [==============================] - 20s 10ms/step - loss: 1.4790 - sparse_categorical_accuracy: 0.9822 - val_loss: 1.4876 - val_sparse_categorical_accuracy: 0.9735 - lr: 1.0000e-05\n",
      "Epoch 26/50\n",
      "1872/1875 [============================>.] - ETA: 0s - loss: 1.4789 - sparse_categorical_accuracy: 0.9822\n",
      "Epoch 00026: val_loss did not improve from 1.48752\n",
      "1875/1875 [==============================] - 20s 11ms/step - loss: 1.4789 - sparse_categorical_accuracy: 0.9822 - val_loss: 1.4877 - val_sparse_categorical_accuracy: 0.9734 - lr: 1.0000e-05\n",
      "Epoch 27/50\n",
      "1874/1875 [============================>.] - ETA: 0s - loss: 1.4788 - sparse_categorical_accuracy: 0.9823\n",
      "Epoch 00027: val_loss did not improve from 1.48752\n",
      "1875/1875 [==============================] - 20s 11ms/step - loss: 1.4788 - sparse_categorical_accuracy: 0.9823 - val_loss: 1.4876 - val_sparse_categorical_accuracy: 0.9733 - lr: 1.0000e-05\n",
      "Epoch 28/50\n",
      "1874/1875 [============================>.] - ETA: 0s - loss: 1.4788 - sparse_categorical_accuracy: 0.9824\n",
      "Epoch 00028: val_loss improved from 1.48752 to 1.48737, saving model to my_checkpoint.ckpt\n",
      "1875/1875 [==============================] - 20s 11ms/step - loss: 1.4788 - sparse_categorical_accuracy: 0.9824 - val_loss: 1.4874 - val_sparse_categorical_accuracy: 0.9736 - lr: 1.0000e-05\n",
      "Epoch 29/50\n",
      "1874/1875 [============================>.] - ETA: 0s - loss: 1.4788 - sparse_categorical_accuracy: 0.9823\n",
      "Epoch 00029: val_loss did not improve from 1.48737\n",
      "1875/1875 [==============================] - 20s 10ms/step - loss: 1.4788 - sparse_categorical_accuracy: 0.9823 - val_loss: 1.4875 - val_sparse_categorical_accuracy: 0.9736 - lr: 1.0000e-05\n",
      "Epoch 30/50\n",
      "1870/1875 [============================>.] - ETA: 0s - loss: 1.4787 - sparse_categorical_accuracy: 0.9825\n",
      "Epoch 00030: val_loss improved from 1.48737 to 1.48701, saving model to my_checkpoint.ckpt\n",
      "1875/1875 [==============================] - 20s 11ms/step - loss: 1.4787 - sparse_categorical_accuracy: 0.9825 - val_loss: 1.4870 - val_sparse_categorical_accuracy: 0.9742 - lr: 1.0000e-05\n",
      "Epoch 31/50\n",
      "1871/1875 [============================>.] - ETA: 0s - loss: 1.4786 - sparse_categorical_accuracy: 0.9825\n",
      "Epoch 00031: val_loss did not improve from 1.48701\n",
      "1875/1875 [==============================] - 20s 11ms/step - loss: 1.4786 - sparse_categorical_accuracy: 0.9825 - val_loss: 1.4875 - val_sparse_categorical_accuracy: 0.9735 - lr: 1.0000e-05\n",
      "Epoch 32/50\n",
      "1875/1875 [==============================] - ETA: 0s - loss: 1.4786 - sparse_categorical_accuracy: 0.9826\n",
      "Epoch 00032: val_loss did not improve from 1.48701\n",
      "1875/1875 [==============================] - 20s 11ms/step - loss: 1.4786 - sparse_categorical_accuracy: 0.9826 - val_loss: 1.4872 - val_sparse_categorical_accuracy: 0.9740 - lr: 1.0000e-05\n",
      "Epoch 33/50\n",
      "1873/1875 [============================>.] - ETA: 0s - loss: 1.4786 - sparse_categorical_accuracy: 0.9826\n",
      "Epoch 00033: val_loss did not improve from 1.48701\n",
      "1875/1875 [==============================] - 20s 11ms/step - loss: 1.4786 - sparse_categorical_accuracy: 0.9826 - val_loss: 1.4874 - val_sparse_categorical_accuracy: 0.9735 - lr: 1.0000e-05\n",
      "Epoch 34/50\n",
      "1874/1875 [============================>.] - ETA: 0s - loss: 1.4785 - sparse_categorical_accuracy: 0.9826\n",
      "Epoch 00034: val_loss did not improve from 1.48701\n",
      "1875/1875 [==============================] - 20s 11ms/step - loss: 1.4785 - sparse_categorical_accuracy: 0.9826 - val_loss: 1.4872 - val_sparse_categorical_accuracy: 0.9738 - lr: 1.0000e-05\n",
      "Epoch 35/50\n",
      "1875/1875 [==============================] - ETA: 0s - loss: 1.4785 - sparse_categorical_accuracy: 0.9826\n",
      "Epoch 00035: val_loss did not improve from 1.48701\n",
      "1875/1875 [==============================] - 20s 11ms/step - loss: 1.4785 - sparse_categorical_accuracy: 0.9826 - val_loss: 1.4871 - val_sparse_categorical_accuracy: 0.9742 - lr: 1.0000e-05\n",
      "Epoch 36/50\n",
      "1873/1875 [============================>.] - ETA: 0s - loss: 1.4785 - sparse_categorical_accuracy: 0.9826\n",
      "Epoch 00036: val_loss did not improve from 1.48701\n",
      "1875/1875 [==============================] - 20s 11ms/step - loss: 1.4785 - sparse_categorical_accuracy: 0.9827 - val_loss: 1.4871 - val_sparse_categorical_accuracy: 0.9740 - lr: 1.0000e-05\n",
      "Epoch 37/50\n",
      "1872/1875 [============================>.] - ETA: 0s - loss: 1.4785 - sparse_categorical_accuracy: 0.9827\n",
      "Epoch 00037: val_loss did not improve from 1.48701\n",
      "1875/1875 [==============================] - 20s 11ms/step - loss: 1.4785 - sparse_categorical_accuracy: 0.9827 - val_loss: 1.4872 - val_sparse_categorical_accuracy: 0.9738 - lr: 1.0000e-05\n",
      "Epoch 38/50\n",
      "1874/1875 [============================>.] - ETA: 0s - loss: 1.4784 - sparse_categorical_accuracy: 0.9827\n",
      "Epoch 00038: val_loss did not improve from 1.48701\n",
      "1875/1875 [==============================] - 21s 11ms/step - loss: 1.4784 - sparse_categorical_accuracy: 0.9827 - val_loss: 1.4871 - val_sparse_categorical_accuracy: 0.9740 - lr: 1.0000e-05\n",
      "Epoch 39/50\n",
      "1874/1875 [============================>.] - ETA: 0s - loss: 1.4784 - sparse_categorical_accuracy: 0.9827\n",
      "Epoch 00039: val_loss did not improve from 1.48701\n",
      "1875/1875 [==============================] - 24s 13ms/step - loss: 1.4784 - sparse_categorical_accuracy: 0.9827 - val_loss: 1.4872 - val_sparse_categorical_accuracy: 0.9739 - lr: 1.0000e-05\n",
      "Epoch 40/50\n",
      "1875/1875 [==============================] - ETA: 0s - loss: 1.4784 - sparse_categorical_accuracy: 0.9828\n",
      "Epoch 00040: val_loss did not improve from 1.48701\n",
      "1875/1875 [==============================] - 21s 11ms/step - loss: 1.4784 - sparse_categorical_accuracy: 0.9828 - val_loss: 1.4873 - val_sparse_categorical_accuracy: 0.9738 - lr: 1.0000e-05\n",
      "Epoch 41/50\n",
      "1873/1875 [============================>.] - ETA: 0s - loss: 1.4784 - sparse_categorical_accuracy: 0.9828\n",
      "Epoch 00041: val_loss did not improve from 1.48701\n",
      "1875/1875 [==============================] - 21s 11ms/step - loss: 1.4784 - sparse_categorical_accuracy: 0.9828 - val_loss: 1.4873 - val_sparse_categorical_accuracy: 0.9740 - lr: 1.0000e-05\n",
      "Epoch 42/50\n",
      "1871/1875 [============================>.] - ETA: 0s - loss: 1.4783 - sparse_categorical_accuracy: 0.9828\n",
      "Epoch 00042: val_loss did not improve from 1.48701\n",
      "1875/1875 [==============================] - 21s 11ms/step - loss: 1.4783 - sparse_categorical_accuracy: 0.9828 - val_loss: 1.4871 - val_sparse_categorical_accuracy: 0.9740 - lr: 1.0000e-05\n",
      "Epoch 43/50\n",
      "1873/1875 [============================>.] - ETA: 0s - loss: 1.4783 - sparse_categorical_accuracy: 0.9828\n",
      "Epoch 00043: val_loss did not improve from 1.48701\n",
      "1875/1875 [==============================] - 21s 11ms/step - loss: 1.4783 - sparse_categorical_accuracy: 0.9828 - val_loss: 1.4874 - val_sparse_categorical_accuracy: 0.9736 - lr: 1.0000e-05\n",
      "Epoch 44/50\n",
      "1871/1875 [============================>.] - ETA: 0s - loss: 1.4784 - sparse_categorical_accuracy: 0.9828\n",
      "Epoch 00044: val_loss did not improve from 1.48701\n",
      "1875/1875 [==============================] - 21s 11ms/step - loss: 1.4783 - sparse_categorical_accuracy: 0.9828 - val_loss: 1.4873 - val_sparse_categorical_accuracy: 0.9736 - lr: 1.0000e-05\n"
     ]
    },
    {
     "name": "stdout",
     "output_type": "stream",
     "text": [
      "Epoch 45/50\n",
      "1872/1875 [============================>.] - ETA: 0s - loss: 1.4783 - sparse_categorical_accuracy: 0.9828\n",
      "Epoch 00045: val_loss did not improve from 1.48701\n",
      "1875/1875 [==============================] - 20s 11ms/step - loss: 1.4783 - sparse_categorical_accuracy: 0.9828 - val_loss: 1.4873 - val_sparse_categorical_accuracy: 0.9738 - lr: 1.0000e-05\n",
      "Epoch 46/50\n",
      "1870/1875 [============================>.] - ETA: 0s - loss: 1.4783 - sparse_categorical_accuracy: 0.9828\n",
      "Epoch 00046: val_loss did not improve from 1.48701\n",
      "1875/1875 [==============================] - 22s 12ms/step - loss: 1.4783 - sparse_categorical_accuracy: 0.9828 - val_loss: 1.4873 - val_sparse_categorical_accuracy: 0.9739 - lr: 1.0000e-05\n",
      "Epoch 47/50\n",
      "1872/1875 [============================>.] - ETA: 0s - loss: 1.4783 - sparse_categorical_accuracy: 0.9828\n",
      "Epoch 00047: val_loss did not improve from 1.48701\n",
      "1875/1875 [==============================] - 22s 12ms/step - loss: 1.4783 - sparse_categorical_accuracy: 0.9829 - val_loss: 1.4873 - val_sparse_categorical_accuracy: 0.9739 - lr: 1.0000e-05\n",
      "Epoch 48/50\n",
      "1874/1875 [============================>.] - ETA: 0s - loss: 1.4783 - sparse_categorical_accuracy: 0.9829\n",
      "Epoch 00048: val_loss did not improve from 1.48701\n",
      "1875/1875 [==============================] - 22s 12ms/step - loss: 1.4783 - sparse_categorical_accuracy: 0.9829 - val_loss: 1.4874 - val_sparse_categorical_accuracy: 0.9738 - lr: 1.0000e-05\n",
      "Epoch 49/50\n",
      "1870/1875 [============================>.] - ETA: 0s - loss: 1.4783 - sparse_categorical_accuracy: 0.9829\n",
      "Epoch 00049: val_loss did not improve from 1.48701\n",
      "1875/1875 [==============================] - 22s 12ms/step - loss: 1.4783 - sparse_categorical_accuracy: 0.9829 - val_loss: 1.4875 - val_sparse_categorical_accuracy: 0.9735 - lr: 1.0000e-05\n",
      "Epoch 50/50\n",
      "1875/1875 [==============================] - ETA: 0s - loss: 1.4783 - sparse_categorical_accuracy: 0.9829\n",
      "Epoch 00050: val_loss did not improve from 1.48701\n",
      "1875/1875 [==============================] - 21s 11ms/step - loss: 1.4783 - sparse_categorical_accuracy: 0.9829 - val_loss: 1.4873 - val_sparse_categorical_accuracy: 0.9739 - lr: 1.0000e-05\n"
     ]
    },
    {
     "data": {
      "text/plain": [
       "<tensorflow.python.keras.callbacks.History at 0x7fac781bc950>"
      ]
     },
     "execution_count": 10,
     "metadata": {},
     "output_type": "execute_result"
    }
   ],
   "source": [
    "model.fit(\n",
    "    x_train,\n",
    "    y_train,\n",
    "    validation_data=(x_test, y_test),\n",
    "    epochs=epochs,\n",
    "    callbacks=[checkpoint, reduce_lr, tensorboard_callback],\n",
    ")"
   ]
  },
  {
   "cell_type": "markdown",
   "metadata": {},
   "source": [
    "## Check the training process via tensorboard"
   ]
  },
  {
   "cell_type": "code",
   "execution_count": 11,
   "metadata": {
    "ExecuteTime": {
     "end_time": "2020-06-22T19:06:00.549360Z",
     "start_time": "2020-06-22T19:06:00.540194Z"
    }
   },
   "outputs": [
    {
     "data": {
      "text/plain": [
       "Reusing TensorBoard on port 6006 (pid 7257), started 0:19:34 ago. (Use '!kill 7257' to kill it.)"
      ]
     },
     "metadata": {},
     "output_type": "display_data"
    },
    {
     "data": {
      "text/html": [
       "\n",
       "      <iframe id=\"tensorboard-frame-70d3102dab6445c1\" width=\"100%\" height=\"800\" frameborder=\"0\">\n",
       "      </iframe>\n",
       "      <script>\n",
       "        (function() {\n",
       "          const frame = document.getElementById(\"tensorboard-frame-70d3102dab6445c1\");\n",
       "          const url = new URL(\"/\", window.location);\n",
       "          url.port = 6006;\n",
       "          frame.src = url;\n",
       "        })();\n",
       "      </script>\n",
       "  "
      ],
      "text/plain": [
       "<IPython.core.display.HTML object>"
      ]
     },
     "metadata": {},
     "output_type": "display_data"
    }
   ],
   "source": [
    "%tensorboard --logdir logs"
   ]
  },
  {
   "cell_type": "markdown",
   "metadata": {},
   "source": [
    "## Load the best weights"
   ]
  },
  {
   "cell_type": "code",
   "execution_count": 12,
   "metadata": {
    "ExecuteTime": {
     "end_time": "2020-06-22T19:06:00.606355Z",
     "start_time": "2020-06-22T19:06:00.550786Z"
    }
   },
   "outputs": [
    {
     "data": {
      "text/plain": [
       "<tensorflow.python.training.tracking.util.CheckpointLoadStatus at 0x7fac58c28210>"
      ]
     },
     "execution_count": 12,
     "metadata": {},
     "output_type": "execute_result"
    }
   ],
   "source": [
    "model.load_weights(checkpoint_path)"
   ]
  },
  {
   "cell_type": "markdown",
   "metadata": {},
   "source": [
    "## Evaluate the model"
   ]
  },
  {
   "cell_type": "code",
   "execution_count": 15,
   "metadata": {
    "ExecuteTime": {
     "end_time": "2020-06-23T02:14:31.116621Z",
     "start_time": "2020-06-23T02:14:30.825850Z"
    }
   },
   "outputs": [
    {
     "name": "stdout",
     "output_type": "stream",
     "text": [
      "313/313 [==============================] - 0s 814us/step - loss: 1.4870 - sparse_categorical_accuracy: 0.9742\n"
     ]
    },
    {
     "data": {
      "text/plain": [
       "[1.4870102405548096, 0.9742000102996826]"
      ]
     },
     "execution_count": 15,
     "metadata": {},
     "output_type": "execute_result"
    }
   ],
   "source": [
    "model.evaluate(x_test, y_test)"
   ]
  },
  {
   "cell_type": "code",
   "execution_count": null,
   "metadata": {},
   "outputs": [],
   "source": []
  }
 ],
 "metadata": {
  "kernelspec": {
   "display_name": "Python 3",
   "language": "python",
   "name": "python3"
  },
  "toc": {
   "base_numbering": 1,
   "nav_menu": {},
   "number_sections": true,
   "sideBar": true,
   "skip_h1_title": false,
   "title_cell": "Table of Contents",
   "title_sidebar": "Contents",
   "toc_cell": false,
   "toc_position": {},
   "toc_section_display": true,
   "toc_window_display": false
  },
  "varInspector": {
   "cols": {
    "lenName": 16,
    "lenType": 16,
    "lenVar": 40
   },
   "kernels_config": {
    "python": {
     "delete_cmd_postfix": "",
     "delete_cmd_prefix": "del ",
     "library": "var_list.py",
     "varRefreshCmd": "print(var_dic_list())"
    },
    "r": {
     "delete_cmd_postfix": ") ",
     "delete_cmd_prefix": "rm(",
     "library": "var_list.r",
     "varRefreshCmd": "cat(var_dic_list()) "
    }
   },
   "types_to_exclude": [
    "module",
    "function",
    "builtin_function_or_method",
    "instance",
    "_Feature"
   ],
   "window_display": false
  }
 },
 "nbformat": 4,
 "nbformat_minor": 4
}
