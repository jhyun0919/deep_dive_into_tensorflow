{
 "cells": [
  {
   "cell_type": "code",
   "execution_count": 1,
   "metadata": {
    "ExecuteTime": {
     "end_time": "2020-06-05T05:49:34.613792Z",
     "start_time": "2020-06-05T05:49:34.611542Z"
    }
   },
   "outputs": [],
   "source": [
    "# # for colab environment\n",
    "# import tensorflow as tf\n",
    "# if tf.__version__ == '2.0.0'\n",
    "#     !pip install tensorflow-gpu==2"
   ]
  },
  {
   "cell_type": "code",
   "execution_count": null,
   "metadata": {
    "ExecuteTime": {
     "end_time": "2019-10-26T03:28:19.910434Z",
     "start_time": "2019-10-26T03:28:19.901566Z"
    }
   },
   "outputs": [],
   "source": []
  },
  {
   "cell_type": "code",
   "execution_count": 2,
   "metadata": {
    "ExecuteTime": {
     "end_time": "2020-06-05T05:49:37.737026Z",
     "start_time": "2020-06-05T05:49:34.616821Z"
    }
   },
   "outputs": [],
   "source": [
    "import tensorflow as tf\n",
    "from tensorflow.keras import layers\n",
    "from tensorflow.keras import datasets\n",
    "import datetime"
   ]
  },
  {
   "cell_type": "code",
   "execution_count": 3,
   "metadata": {
    "ExecuteTime": {
     "end_time": "2020-06-05T05:49:37.742857Z",
     "start_time": "2020-06-05T05:49:37.739635Z"
    }
   },
   "outputs": [],
   "source": [
    "# Hyper-parameters\n",
    "num_classes = 10\n",
    "batch_size = 32\n",
    "epochs = 5"
   ]
  },
  {
   "cell_type": "markdown",
   "metadata": {},
   "source": [
    "# Data"
   ]
  },
  {
   "cell_type": "code",
   "execution_count": 4,
   "metadata": {
    "ExecuteTime": {
     "end_time": "2020-06-05T05:49:38.395297Z",
     "start_time": "2020-06-05T05:49:37.747266Z"
    }
   },
   "outputs": [],
   "source": [
    "mnist = tf.keras.datasets.mnist\n",
    "\n",
    "# load data\n",
    "(x_train, y_train), (x_test, y_test) = mnist.load_data()\n",
    "\n",
    "# add channel dim\n",
    "x_train = x_train[..., tf.newaxis]\n",
    "x_test = x_test[..., tf.newaxis]\n",
    "\n",
    "# normalization\n",
    "x_train, x_test = x_train / 255.0, x_test / 255.0"
   ]
  },
  {
   "cell_type": "markdown",
   "metadata": {},
   "source": [
    "## tf.data"
   ]
  },
  {
   "cell_type": "code",
   "execution_count": 5,
   "metadata": {
    "ExecuteTime": {
     "end_time": "2020-06-05T05:49:38.428263Z",
     "start_time": "2020-06-05T05:49:38.398960Z"
    }
   },
   "outputs": [],
   "source": [
    "train_ds = tf.data.Dataset.from_tensor_slices((x_train, y_train))\n",
    "# need to shuffle on training dataset to prevent bias\n",
    "train_ds = train_ds.shuffle(buffer_size=1000)\n",
    "train_ds = train_ds.batch(batch_size=batch_size)\n",
    "\n",
    "test_ds = tf.data.Dataset.from_tensor_slices((x_test, y_test))\n",
    "test_ds = test_ds.batch(batch_size=batch_size)"
   ]
  },
  {
   "cell_type": "markdown",
   "metadata": {},
   "source": [
    "### check data size and type"
   ]
  },
  {
   "cell_type": "code",
   "execution_count": 6,
   "metadata": {
    "ExecuteTime": {
     "end_time": "2020-06-05T05:49:38.691655Z",
     "start_time": "2020-06-05T05:49:38.430308Z"
    }
   },
   "outputs": [],
   "source": [
    "image, label = next(iter(train_ds))"
   ]
  },
  {
   "cell_type": "code",
   "execution_count": 7,
   "metadata": {
    "ExecuteTime": {
     "end_time": "2020-06-05T05:49:38.709881Z",
     "start_time": "2020-06-05T05:49:38.694531Z"
    }
   },
   "outputs": [
    {
     "data": {
      "text/plain": [
       "(TensorShape([32, 28, 28, 1]), TensorShape([32]))"
      ]
     },
     "execution_count": 7,
     "metadata": {},
     "output_type": "execute_result"
    }
   ],
   "source": [
    "image.shape, label.shape"
   ]
  },
  {
   "cell_type": "code",
   "execution_count": 8,
   "metadata": {
    "ExecuteTime": {
     "end_time": "2020-06-05T05:49:38.718619Z",
     "start_time": "2020-06-05T05:49:38.713148Z"
    }
   },
   "outputs": [
    {
     "data": {
      "text/plain": [
       "tf.float64"
      ]
     },
     "execution_count": 8,
     "metadata": {},
     "output_type": "execute_result"
    }
   ],
   "source": [
    "image.dtype"
   ]
  },
  {
   "cell_type": "markdown",
   "metadata": {},
   "source": [
    "\n",
    "# Model"
   ]
  },
  {
   "cell_type": "markdown",
   "metadata": {},
   "source": [
    "## Model structure"
   ]
  },
  {
   "cell_type": "code",
   "execution_count": 9,
   "metadata": {
    "ExecuteTime": {
     "end_time": "2020-06-05T05:49:38.762244Z",
     "start_time": "2020-06-05T05:49:38.721948Z"
    }
   },
   "outputs": [],
   "source": [
    "class MyModel(tf.keras.Model):\n",
    "    def __init__(self):\n",
    "        super(MyModel, self).__init__()\n",
    "        self.conv1 = layers.Conv2D(filters=32, kernel_size=3, strides=(1, 1), padding='SAME')\n",
    "        self.conv2 = layers.Conv2D(filters=32, kernel_size=3, strides=(1, 1), padding='SAME')\n",
    "        self.conv3 = layers.Conv2D(filters=64, kernel_size=3, strides=(1, 1), padding='SAME')\n",
    "        self.conv4 = layers.Conv2D(filters=64, kernel_size=3, strides=(1, 1), padding='SAME')\n",
    "        self.relu = layers.Activation('relu')\n",
    "        self.maxpool = layers.MaxPool2D((2, 2))\n",
    "        self.dropout = layers.Dropout(0.5)\n",
    "        \n",
    "        self.flatten = layers.Flatten()\n",
    "        self.dense1 = layers.Dense(512)\n",
    "        self.dense2 = layers.Dense(num_classes)\n",
    "        self.sofmax = layers.Activation('softmax')\n",
    "        \n",
    "    def call(self, inputs): \n",
    "        X = self.conv1(inputs) # [batch_size, 28, 28, 1] -> [batch_size, 28, 28, 32]\n",
    "        X = self.relu(X)\n",
    "        X = self.conv2(X) # [batch_size, 28, 28, 32] -> [batch_size, 28, 28, 32*32]\n",
    "        X = self.relu(X)\n",
    "        X = self.maxpool(X) # [batch_size, 28, 28, 32*32] -> [batch_size, 14, 14, 32*32]\n",
    "        X = self.dropout(X)\n",
    "        \n",
    "        X = self.conv3(X) # [batch_size, 14, 14, 32*32] -> [batch_size, 14, 14, 32*32*64]\n",
    "        X = self.relu(X)\n",
    "        X = self.conv4(X) # [batch_size, 14, 14, 32*32*64] -> [batch_size, 14, 14, 32*32*64*64]\n",
    "        X = self.relu(X)\n",
    "        X = self.maxpool(X) # [batch_size, 14, 14, 32*32*64*64] -> [batch_size, 7, 7, 32*32*64*64]\n",
    "        X = self.dropout(X)\n",
    "        \n",
    "        X = self.flatten(X) # [batch_size, 7, 7, 32*32*64*64] -> [batch_size, 7*7*(32*32*64*64)]\n",
    "        X = self.dense1(X) # [batch_size, 7*7*(32*32*64*64)] -> [batch_size, 512]\n",
    "        X = self.relu(X)\n",
    "        X = self.dropout(X)\n",
    "        X = self.dense2(X) # [batch_size, 512] -> [batch_size, num_classes]\n",
    "        return self.sofmax(X)\n",
    "        \n",
    "model = MyModel()"
   ]
  },
  {
   "cell_type": "code",
   "execution_count": null,
   "metadata": {
    "ExecuteTime": {
     "end_time": "2020-05-19T08:49:45.687170Z",
     "start_time": "2020-05-19T08:49:45.322420Z"
    }
   },
   "outputs": [],
   "source": []
  },
  {
   "cell_type": "markdown",
   "metadata": {},
   "source": [
    "# Training"
   ]
  },
  {
   "cell_type": "code",
   "execution_count": 10,
   "metadata": {
    "ExecuteTime": {
     "end_time": "2020-06-05T05:49:38.916677Z",
     "start_time": "2020-06-05T05:49:38.768654Z"
    }
   },
   "outputs": [],
   "source": [
    "%load_ext tensorboard\n",
    "# Clear any logs from previous runs\n",
    "!rm -rf ./logs/\n",
    "\n",
    "current_time = datetime.datetime.now().strftime(\"%Y%m%d-%H%M%S\")\n",
    "train_log_dir = 'logs/gradient_tape/' + current_time + '/train'\n",
    "test_log_dir = 'logs/gradient_tape/' + current_time + '/test'\n",
    "train_summary_writer = tf.summary.create_file_writer(train_log_dir)\n",
    "test_summary_writer = tf.summary.create_file_writer(test_log_dir)"
   ]
  },
  {
   "cell_type": "markdown",
   "metadata": {},
   "source": [
    "## Automatically"
   ]
  },
  {
   "cell_type": "code",
   "execution_count": 11,
   "metadata": {
    "ExecuteTime": {
     "end_time": "2020-06-05T05:49:38.924003Z",
     "start_time": "2020-06-05T05:49:38.921393Z"
    },
    "scrolled": false
   },
   "outputs": [],
   "source": [
    "# model.compile(optimizer=tf.keras.optimizers.Adam(), \n",
    "#               loss=tf.keras.losses.SparseCategoricalCrossentropy())\n",
    "# model.fit(train_ds, epochs=epochs)"
   ]
  },
  {
   "cell_type": "markdown",
   "metadata": {},
   "source": [
    "## Manually"
   ]
  },
  {
   "cell_type": "code",
   "execution_count": 12,
   "metadata": {
    "ExecuteTime": {
     "end_time": "2020-06-05T05:49:38.931751Z",
     "start_time": "2020-06-05T05:49:38.927913Z"
    }
   },
   "outputs": [],
   "source": [
    "loss_object = tf.keras.losses.SparseCategoricalCrossentropy() # w/o one-hot-encoding\n",
    "# loss_object = tf.keras.losses.CategoricalCrossentropy() # w/ one-hot-encoding\n",
    "optimizer = tf.keras.optimizers.Adam()"
   ]
  },
  {
   "cell_type": "code",
   "execution_count": 13,
   "metadata": {
    "ExecuteTime": {
     "end_time": "2020-06-05T05:49:38.966708Z",
     "start_time": "2020-06-05T05:49:38.933885Z"
    }
   },
   "outputs": [],
   "source": [
    "train_loss = tf.keras.metrics.Mean(name='train_loss')\n",
    "train_accuracy = tf.keras.metrics.SparseCategoricalAccuracy(\n",
    "    name='train_accuracy')\n",
    "\n",
    "test_loss = tf.keras.metrics.Mean(name='test_loss')\n",
    "test_accuracy = tf.keras.metrics.SparseCategoricalAccuracy(\n",
    "    name='test_accuracy')"
   ]
  },
  {
   "cell_type": "code",
   "execution_count": 14,
   "metadata": {
    "ExecuteTime": {
     "end_time": "2020-06-05T05:49:38.977044Z",
     "start_time": "2020-06-05T05:49:38.969249Z"
    }
   },
   "outputs": [],
   "source": [
    "@tf.function\n",
    "def train_step(images, labels):\n",
    "    with tf.GradientTape() as tape:\n",
    "        predictions = model(inputs=images)\n",
    "        loss = loss_object(y_true=labels, y_pred=predictions)\n",
    "    gradients = tape.gradient(target=loss, sources=model.trainable_variables)\n",
    "    optimizer.apply_gradients(grads_and_vars=zip(\n",
    "        gradients, model.trainable_variables))\n",
    "\n",
    "    train_loss(loss)\n",
    "    train_accuracy(labels, predictions)"
   ]
  },
  {
   "cell_type": "code",
   "execution_count": 15,
   "metadata": {
    "ExecuteTime": {
     "end_time": "2020-06-05T05:49:38.985679Z",
     "start_time": "2020-06-05T05:49:38.981028Z"
    }
   },
   "outputs": [],
   "source": [
    "@tf.function\n",
    "def test_step(images, labels):\n",
    "    predictions = model(inputs=images)\n",
    "    t_loss = loss_object(y_true=labels, y_pred=predictions)\n",
    "    \n",
    "    test_loss(t_loss)\n",
    "    test_accuracy(labels, predictions)"
   ]
  },
  {
   "cell_type": "code",
   "execution_count": 16,
   "metadata": {
    "ExecuteTime": {
     "end_time": "2020-06-05T05:58:42.999062Z",
     "start_time": "2020-06-05T05:49:38.989252Z"
    },
    "scrolled": false
   },
   "outputs": [
    {
     "name": "stdout",
     "output_type": "stream",
     "text": [
      "WARNING:tensorflow:Layer my_model is casting an input tensor from dtype float64 to the layer's dtype of float32, which is new behavior in TensorFlow 2.  The layer has dtype float32 because it's dtype defaults to floatx.\n",
      "\n",
      "If you intended to run this layer in float32, you can safely ignore this warning. If in doubt, this warning is likely only an issue if you are porting a TensorFlow 1.X model to TensorFlow 2.\n",
      "\n",
      "To change all layers to have dtype float64 by default, call `tf.keras.backend.set_floatx('float64')`. To change just this layer, pass dtype='float64' to the layer constructor. If you are the author of this layer, you can disable autocasting by passing autocast=False to the base Layer constructor.\n",
      "\n",
      "Epoch 1, Loss: 0.09885437786579132, Accuracy: 96.8933334350586, Test Loss 0.03922557085752487, Test Accuracy: 98.72999572753906\n",
      "Epoch 2, Loss: 0.0668303444981575, Accuracy: 97.91749572753906, Test Loss 0.03405230492353439, Test Accuracy: 98.875\n",
      "Epoch 3, Loss: 0.05279366299510002, Accuracy: 98.34610748291016, Test Loss 0.03491632640361786, Test Accuracy: 98.88999938964844\n",
      "Epoch 4, Loss: 0.044217221438884735, Accuracy: 98.6070785522461, Test Loss 0.0348794050514698, Test Accuracy: 98.9375\n",
      "Epoch 5, Loss: 0.03819133713841438, Accuracy: 98.79966735839844, Test Loss 0.03457559272646904, Test Accuracy: 98.95800018310547\n"
     ]
    }
   ],
   "source": [
    "for epoch in range(epochs):\n",
    "    for images, labels in train_ds:\n",
    "        train_step(images, labels)\n",
    "    with train_summary_writer.as_default():\n",
    "        tf.summary.scalar('loss', train_loss.result(), step=epoch)\n",
    "        tf.summary.scalar('accuracy', train_accuracy.result(), step=epoch)\n",
    "        \n",
    "    for test_images, test_labels in test_ds:\n",
    "        test_step(test_images, test_labels)\n",
    "    with test_summary_writer.as_default():\n",
    "        tf.summary.scalar('loss', test_loss.result(), step=epoch)\n",
    "        tf.summary.scalar('accuracy', test_accuracy.result(), step=epoch)\n",
    "    \n",
    "    template = 'Epoch {}, Loss: {}, Accuracy: {}, Test Loss {}, Test Accuracy: {}'\n",
    "    print(template.format(epoch+1, \n",
    "                          train_loss.result(),\n",
    "                          train_accuracy.result() * 100, \n",
    "                          test_loss.result(), \n",
    "                          test_accuracy.result() * 100))"
   ]
  },
  {
   "cell_type": "code",
   "execution_count": 17,
   "metadata": {
    "ExecuteTime": {
     "end_time": "2020-06-05T05:58:54.434712Z",
     "start_time": "2020-06-05T05:58:54.424380Z"
    }
   },
   "outputs": [
    {
     "data": {
      "text/plain": [
       "Reusing TensorBoard on port 6006 (pid 69202), started 1:53:41 ago. (Use '!kill 69202' to kill it.)"
      ]
     },
     "metadata": {},
     "output_type": "display_data"
    },
    {
     "data": {
      "text/html": [
       "\n",
       "      <iframe id=\"tensorboard-frame-f0961105a9ac2b45\" width=\"100%\" height=\"800\" frameborder=\"0\">\n",
       "      </iframe>\n",
       "      <script>\n",
       "        (function() {\n",
       "          const frame = document.getElementById(\"tensorboard-frame-f0961105a9ac2b45\");\n",
       "          const url = new URL(\"/\", window.location);\n",
       "          url.port = 6006;\n",
       "          frame.src = url;\n",
       "        })();\n",
       "      </script>\n",
       "  "
      ],
      "text/plain": [
       "<IPython.core.display.HTML object>"
      ]
     },
     "metadata": {},
     "output_type": "display_data"
    }
   ],
   "source": [
    "%tensorboard --logdir logs/gradient_tape"
   ]
  },
  {
   "cell_type": "code",
   "execution_count": null,
   "metadata": {},
   "outputs": [],
   "source": []
  }
 ],
 "metadata": {
  "kernelspec": {
   "display_name": "Python 3",
   "language": "python",
   "name": "python3"
  },
  "language_info": {
   "codemirror_mode": {
    "name": "ipython",
    "version": 3
   },
   "file_extension": ".py",
   "mimetype": "text/x-python",
   "name": "python",
   "nbconvert_exporter": "python",
   "pygments_lexer": "ipython3",
   "version": "3.7.4"
  },
  "toc": {
   "base_numbering": 1,
   "nav_menu": {},
   "number_sections": true,
   "sideBar": true,
   "skip_h1_title": false,
   "title_cell": "Table of Contents",
   "title_sidebar": "Contents",
   "toc_cell": false,
   "toc_position": {},
   "toc_section_display": true,
   "toc_window_display": false
  },
  "varInspector": {
   "cols": {
    "lenName": 16,
    "lenType": 16,
    "lenVar": 40
   },
   "kernels_config": {
    "python": {
     "delete_cmd_postfix": "",
     "delete_cmd_prefix": "del ",
     "library": "var_list.py",
     "varRefreshCmd": "print(var_dic_list())"
    },
    "r": {
     "delete_cmd_postfix": ") ",
     "delete_cmd_prefix": "rm(",
     "library": "var_list.r",
     "varRefreshCmd": "cat(var_dic_list()) "
    }
   },
   "types_to_exclude": [
    "module",
    "function",
    "builtin_function_or_method",
    "instance",
    "_Feature"
   ],
   "window_display": false
  }
 },
 "nbformat": 4,
 "nbformat_minor": 2
}
